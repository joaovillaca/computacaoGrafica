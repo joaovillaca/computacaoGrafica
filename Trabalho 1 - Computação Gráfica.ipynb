{
 "cells": [
  {
   "cell_type": "markdown",
   "metadata": {},
   "source": [
    "# Trabalho 1 - Computação Gráfica\n",
    "## Sergio Carrazzoni de Toledo Piza - 9361073\n",
    "## João Villaça - 10724239\n",
    "\n",
    "\n",
    "# Comandos:\n",
    "- Movimente para a esquerda e direita utilizando as setas ou a/d\n",
    "- Atire com a barra de espaço\n",
    "- Para sair do jogo, aperta as teclas esc ou del"
   ]
  },
  {
   "cell_type": "markdown",
   "metadata": {},
   "source": [
    "### Primeiro, vamos importar as bibliotecas necessárias.\n",
    "Verifique no código anterior um script para instalar as dependências necessárias (OpenGL e GLFW) antes de prosseguir."
   ]
  },
  {
   "cell_type": "code",
   "execution_count": 1,
   "metadata": {},
   "outputs": [],
   "source": [
    "import glfw\n",
    "from OpenGL.GL import *\n",
    "import OpenGL.GL.shaders\n",
    "from OpenGL.GLU import *\n",
    "import numpy as np"
   ]
  },
  {
   "cell_type": "markdown",
   "metadata": {},
   "source": [
    "### Inicializando janela"
   ]
  },
  {
   "cell_type": "code",
   "execution_count": 2,
   "metadata": {},
   "outputs": [],
   "source": [
    "fullscreen = True\n",
    "\n",
    "glfw.init()\n",
    "glfw.window_hint(glfw.VISIBLE, glfw.FALSE);\n",
    "if fullscreen:\n",
    "    window = glfw.create_window(1920, 1080, \"Space Invaders\", glfw.get_primary_monitor(), None)\n",
    "else:\n",
    "    window = glfw.create_window(1920, 1080, \"Space Invaders\", None, None)\n",
    "\n",
    "glfw.make_context_current(window)"
   ]
  },
  {
   "cell_type": "markdown",
   "metadata": {},
   "source": [
    "### GLSL (OpenGL Shading Language)\n",
    "\n",
    "Aqui veremos nosso primeiro código GLSL.\n",
    "\n",
    "É uma linguagem de shading de alto nível baseada na linguagem de programação C.\n",
    "\n",
    "Nós estamos escrevendo código GLSL como se \"strings\" de uma variável (mas podemos ler de arquivos texto). Esse código, depois, terá que ser compilado e linkado ao nosso programa. \n",
    "\n",
    "Iremos aprender GLSL conforme a necessidade do curso. Usarmos uma versão do GLSL mais antiga, compatível com muitos dispositivos."
   ]
  },
  {
   "cell_type": "markdown",
   "metadata": {},
   "source": [
    "### GLSL para Vertex Shader\n",
    "\n",
    "No Pipeline programável, podemos interagir com Vertex Shaders.\n",
    "\n",
    "No código abaixo, estamos fazendo o seguinte:\n",
    "\n",
    "* Definindo uma variável chamada position do tipo vec2.\n",
    "* Definindo uma variável chamada mat_transformation do tipo mat4 (matriz 4x4).\n",
    "* Usamos vec2, pois nosso programa (na CPU) irá enviar apenas duas coordenadas para plotar um ponto. Podemos mandar três coordenadas (vec3) e até mesmo quatro coordenadas (vec4).\n",
    "* void main() é o ponto de entrada do nosso programa (função principal)\n",
    "* gl_Position é uma variável especial do GLSL. Variáveis que começam com 'gl_' são desse tipo. Nesse caso, determina a posição de um vértice. Observe que todo vértice tem 4 coordenadas, por isso nós combinamos nossa variável vec2 com uma variável vec4. Além disso, nós modificamos nosso vetor com base em uma matriz de transformação, conforme estudado na Aula05."
   ]
  },
  {
   "cell_type": "code",
   "execution_count": 3,
   "metadata": {},
   "outputs": [],
   "source": [
    "vertex_code = \"\"\"\n",
    "        attribute vec2 position;\n",
    "        uniform mat4 mat_transformation;\n",
    "        void main(){\n",
    "            gl_Position = mat_transformation * vec4(position,0.0,1.0);\n",
    "        }\n",
    "        \"\"\""
   ]
  },
  {
   "cell_type": "markdown",
   "metadata": {},
   "source": [
    "### GLSL para Fragment Shader\n",
    "\n",
    "No Pipeline programável, podemos interagir com Fragment Shaders.\n",
    "\n",
    "No código abaixo, estamos fazendo o seguinte:\n",
    "\n",
    "* void main() é o ponto de entrada do nosso programa (função principal)\n",
    "* gl_FragColor é uma variável especial do GLSL. Variáveis que começam com 'gl_' são desse tipo. Nesse caso, determina a cor de um fragmento. Nesse caso é um ponto, mas poderia ser outro objeto (ponto, linha, triangulos, etc)."
   ]
  },
  {
   "cell_type": "markdown",
   "metadata": {},
   "source": [
    "### Possibilitando modificar a cor.\n",
    "\n",
    "Nos exemplos anteriores, a variável gl_FragColor estava definida de forma fixa (com cor R=0, G=0, B=0).\n",
    "\n",
    "Agora, nós vamos criar uma variável do tipo \"uniform\", de quatro posições (vec4), para receber o dado de cor do nosso programa rodando em CPU."
   ]
  },
  {
   "cell_type": "code",
   "execution_count": 4,
   "metadata": {},
   "outputs": [],
   "source": [
    "fragment_code = \"\"\"\n",
    "        uniform vec4 color;\n",
    "        void main(){\n",
    "            gl_FragColor = color;\n",
    "        }\n",
    "        \"\"\""
   ]
  },
  {
   "cell_type": "markdown",
   "metadata": {},
   "source": [
    "### Requisitando slot para a GPU para nossos programas Vertex e Fragment Shaders"
   ]
  },
  {
   "cell_type": "code",
   "execution_count": 5,
   "metadata": {},
   "outputs": [],
   "source": [
    "# Request a program and shader slots from GPU\n",
    "program  = glCreateProgram()\n",
    "vertex   = glCreateShader(GL_VERTEX_SHADER)\n",
    "fragment = glCreateShader(GL_FRAGMENT_SHADER)\n"
   ]
  },
  {
   "cell_type": "markdown",
   "metadata": {},
   "source": [
    "### Associando nosso código-fonte aos slots solicitados"
   ]
  },
  {
   "cell_type": "code",
   "execution_count": 6,
   "metadata": {},
   "outputs": [],
   "source": [
    "# Set shaders source\n",
    "glShaderSource(vertex, vertex_code)\n",
    "glShaderSource(fragment, fragment_code)"
   ]
  },
  {
   "cell_type": "markdown",
   "metadata": {},
   "source": [
    "### Compilando o Vertex Shader\n",
    "\n",
    "Se há algum erro em nosso programa Vertex Shader, nosso app para por aqui."
   ]
  },
  {
   "cell_type": "code",
   "execution_count": 7,
   "metadata": {},
   "outputs": [],
   "source": [
    "# Compile shaders\n",
    "glCompileShader(vertex)\n",
    "if not glGetShaderiv(vertex, GL_COMPILE_STATUS):\n",
    "    error = glGetShaderInfoLog(vertex).decode()\n",
    "    print(error)\n",
    "    raise RuntimeError(\"Erro de compilacao do Vertex Shader\")\n"
   ]
  },
  {
   "cell_type": "markdown",
   "metadata": {},
   "source": [
    "### Compilando o Fragment Shader\n",
    "\n",
    "Se há algum erro em nosso programa Fragment Shader, nosso app para por aqui."
   ]
  },
  {
   "cell_type": "code",
   "execution_count": 8,
   "metadata": {},
   "outputs": [],
   "source": [
    "glCompileShader(fragment)\n",
    "if not glGetShaderiv(fragment, GL_COMPILE_STATUS):\n",
    "    error = glGetShaderInfoLog(fragment).decode()\n",
    "    print(error)\n",
    "    raise RuntimeError(\"Erro de compilacao do Fragment Shader\")"
   ]
  },
  {
   "cell_type": "markdown",
   "metadata": {},
   "source": [
    "### Associando os programas compilado ao programa principal"
   ]
  },
  {
   "cell_type": "code",
   "execution_count": 9,
   "metadata": {},
   "outputs": [],
   "source": [
    "# Attach shader objects to the program\n",
    "glAttachShader(program, vertex)\n",
    "glAttachShader(program, fragment)\n"
   ]
  },
  {
   "cell_type": "markdown",
   "metadata": {},
   "source": [
    "### Linkagem do programa"
   ]
  },
  {
   "cell_type": "code",
   "execution_count": 10,
   "metadata": {},
   "outputs": [],
   "source": [
    "# Build program\n",
    "glLinkProgram(program)\n",
    "if not glGetProgramiv(program, GL_LINK_STATUS):\n",
    "    print(glGetProgramInfoLog(program))\n",
    "    raise RuntimeError('Linking error')\n",
    "    \n",
    "# Make program the default program\n",
    "glUseProgram(program)"
   ]
  },
  {
   "cell_type": "markdown",
   "metadata": {},
   "source": [
    "## Configuração dos inimigos"
   ]
  },
  {
   "cell_type": "code",
   "execution_count": 11,
   "metadata": {},
   "outputs": [],
   "source": [
    "enemies_per_line = 11\n",
    "enemy_lines = 4\n",
    "enemy_total = enemies_per_line * enemy_lines\n",
    "enemy_vcount = enemy_total * 4 # quantidade total de vértices utilizados pelos inimigos\n",
    "\n",
    "# quantidade que será necessária dividir o tamanho da tela para caber todos os inimidos igualmente\n",
    "division_factor = 2 * (enemies_per_line )\n",
    "\n",
    "lateral_space = 0.25\n",
    "vertical_space = 0.0\n",
    "\n",
    "enemy_vertices = []\n",
    "\n",
    "# preparando espaço para 3 vértices usando 2 coordenadas (x,y)\n",
    "vertices = np.zeros(enemy_vcount + 7 + 4, [(\"position\", np.float32, 2)])\n",
    "\n",
    "# calculando os vértices dos inimidos dinamicamente\n",
    "for j in range(0, enemy_lines):\n",
    "    for i in range(1, enemies_per_line * 4):\n",
    "        if i%2 == 1:\n",
    "            vertices['position'][j * enemies_per_line * 4 + i - 1] = (\n",
    "                ((1 - lateral_space)/division_factor) * i - 1 + lateral_space,\n",
    "                1 - ((1/division_factor)) - (j * (lateral_space + vertical_space))\n",
    "            )\n",
    "            vertices['position'][j * enemies_per_line * 4 + i] = (\n",
    "                ((1 - lateral_space)/division_factor) * i - 1 + lateral_space,\n",
    "                1 - ((1/division_factor)) * 2 - (j * (lateral_space + vertical_space)) \n",
    "            )\n",
    "            \n",
    "\n",
    "#adicionando vértices dos players\n",
    "vertices['position'][enemy_vcount + 0] = (-0.07, -0.98) # triangulo do player vertice 1\n",
    "vertices['position'][enemy_vcount + 1] = (+0.07, -0.98) # triangulo do player vertice 2\n",
    "vertices['position'][enemy_vcount + 2] = (+0.00, -0.85) # triangulo do player vertice 3\n",
    "vertices['position'][enemy_vcount + 3] = (-0.07, -0.98) # retângulo do player vertice 1\n",
    "vertices['position'][enemy_vcount + 4] = (+0.07, -0.98) # retângulo do player vertice 2\n",
    "vertices['position'][enemy_vcount + 5] = (-0.07, -0.90) # retângulo do player vertice 3\n",
    "vertices['position'][enemy_vcount + 6] = (+0.07, -0.90) # retângulo do player vertice 4\n",
    "player_center_x = 0.0\n",
    "player_center_y = (-0.98 - 0.85)/2\n",
    "\n",
    "\n",
    "vertices['position'][enemy_vcount + 7] = (-0.002, -0.01) # vértice do retângulo do tiro 1\n",
    "vertices['position'][enemy_vcount + 8] = (+0.002, -0.01) # vértice do retângulo do tiro 1\n",
    "vertices['position'][enemy_vcount + 9] = (-0.002, +0.01) # vértice do retângulo do tiro 1\n",
    "vertices['position'][enemy_vcount + 10] = (+0.002, +0.01) # vértice do retângulo do tiro 1\n",
    "\n",
    "# for i in range(1, enemies_per_line * 4):\n",
    "#     if i%2 == 1:\n",
    "#         vertices['position'][i - 1] = (\n",
    "#             ((1 - lateral_space)/division_factor) * i - 1 + lateral_space,\n",
    "#             1 - ((1/division_factor))\n",
    "#         )\n",
    "#         vertices['position'][i] = (\n",
    "#             ((1 - lateral_space)/division_factor) * i - 1 + lateral_space,\n",
    "#             1 - ((1/division_factor)) * 2)\n",
    "\n",
    "#print(vertices[0])\n",
    "#print(vertices[1])\n",
    "#vertices = np.delete(vertices, [0, 1])\n",
    "\n",
    "#print(vertices[0])\n",
    "#print(vertices[1])"
   ]
  },
  {
   "cell_type": "code",
   "execution_count": 12,
   "metadata": {},
   "outputs": [],
   "source": [
    "'''\n",
    "Detecta se um ponto está dentro dos vértices de um retângulo para a colisão dos tiros\n",
    "v1 = vértice inferior esquerdo do retângulo\n",
    "v2 = vértice superior direito do retângulo\n",
    "x, y = coordenadas do ponto para checar\n",
    "'''\n",
    "def inside_square(v1, v2, x, y):\n",
    "    if (x > v1[0] and x < v2[0] and y > v1[1] and y < v2[1]):\n",
    "        return True\n",
    "    return False"
   ]
  },
  {
   "cell_type": "code",
   "execution_count": null,
   "metadata": {},
   "outputs": [],
   "source": []
  },
  {
   "cell_type": "markdown",
   "metadata": {},
   "source": [
    "### Preparando dados para enviar a GPU\n",
    "\n",
    "Nesse momento, nós compilamos nossos Vertex e Program Shaders para que a GPU possa processá-los.\n",
    "\n",
    "Por outro lado, as informações de vértices geralmente estão na CPU e devem ser transmitidas para a GPU.\n",
    "\n",
    "\n",
    "### Para enviar nossos dados da CPU para a GPU, precisamos requisitar um slot."
   ]
  },
  {
   "cell_type": "code",
   "execution_count": 13,
   "metadata": {},
   "outputs": [],
   "source": [
    "# Request a buffer slot from GPU\n",
    "buffer = glGenBuffers(1)\n",
    "# Make this buffer the default one\n",
    "glBindBuffer(GL_ARRAY_BUFFER, buffer)\n"
   ]
  },
  {
   "cell_type": "markdown",
   "metadata": {},
   "source": [
    "### Abaixo, nós enviamos todo o conteúdo da variável vertices.\n",
    "\n",
    "Veja os parâmetros da função glBufferData [https://www.khronos.org/registry/OpenGL-Refpages/gl4/html/glBufferData.xhtml]"
   ]
  },
  {
   "cell_type": "code",
   "execution_count": 14,
   "metadata": {},
   "outputs": [],
   "source": [
    "# Upload data\n",
    "glBufferData(GL_ARRAY_BUFFER, vertices.nbytes, vertices, GL_DYNAMIC_DRAW)\n",
    "glBindBuffer(GL_ARRAY_BUFFER, buffer)"
   ]
  },
  {
   "cell_type": "markdown",
   "metadata": {},
   "source": [
    "### Associando variáveis do programa GLSL (Vertex Shaders) com nossos dados\n",
    "\n",
    "Primeiro, definimos o byte inicial e o offset dos dados."
   ]
  },
  {
   "cell_type": "code",
   "execution_count": 15,
   "metadata": {},
   "outputs": [],
   "source": [
    "# Bind the position attribute\n",
    "# --------------------------------------\n",
    "stride = vertices.strides[0]\n",
    "offset = ctypes.c_void_p(0)\n"
   ]
  },
  {
   "cell_type": "markdown",
   "metadata": {},
   "source": [
    "Em seguida, soliciamos à GPU a localização da variável \"position\" (que guarda coordenadas dos nossos vértices). Nós definimos essa variável no Vertex Shader."
   ]
  },
  {
   "cell_type": "code",
   "execution_count": 16,
   "metadata": {},
   "outputs": [],
   "source": [
    "loc = glGetAttribLocation(program, \"position\")\n",
    "glEnableVertexAttribArray(loc)"
   ]
  },
  {
   "cell_type": "markdown",
   "metadata": {},
   "source": [
    "A partir da localização anterior, nós indicamos à GPU onde está o conteúdo (via posições stride/offset) para a variável position (aqui identificada na posição loc).\n",
    "\n",
    "Outros parâmetros:\n",
    "\n",
    "* Definimos que possui duas coordenadas\n",
    "* Que cada coordenada é do tipo float (GL_FLOAT)\n",
    "* Que não se deve normalizar a coordenada (False)\n",
    "\n",
    "Mais detalhes: https://www.khronos.org/registry/OpenGL-Refpages/gl4/html/glVertexAttribPointer.xhtml"
   ]
  },
  {
   "cell_type": "code",
   "execution_count": 17,
   "metadata": {},
   "outputs": [],
   "source": [
    "glVertexAttribPointer(loc, 2, GL_FLOAT, False, stride, offset)"
   ]
  },
  {
   "cell_type": "markdown",
   "metadata": {},
   "source": [
    "###  Novidade aqui! Vamos pegar a localização da variável color (uniform) para que possamos alterá-la em nosso laço da janela!"
   ]
  },
  {
   "cell_type": "code",
   "execution_count": 18,
   "metadata": {},
   "outputs": [],
   "source": [
    "loc_color = glGetUniformLocation(program, \"color\")\n",
    "R = 1.0\n",
    "G = 1.0\n",
    "B = 1.0"
   ]
  },
  {
   "cell_type": "code",
   "execution_count": 19,
   "metadata": {},
   "outputs": [],
   "source": [
    "def multiplica_matriz(a, b):\n",
    "    m_a = a.reshape(4, 4)\n",
    "    m_b = b.reshape(4, 4)\n",
    "    m_c = np.dot(m_a, m_b)\n",
    "    return m_c.reshape(1, 16)"
   ]
  },
  {
   "cell_type": "markdown",
   "metadata": {},
   "source": [
    "### Capturando eventos de teclado e modificando variáveis para a matriz de transformação"
   ]
  },
  {
   "cell_type": "code",
   "execution_count": 20,
   "metadata": {},
   "outputs": [],
   "source": [
    "game_should_close = 0\n",
    "player_shoot = 0\n",
    "bullet_position_x = 0\n",
    "bullet_position_y = -1\n",
    "\n",
    "# exemplo para matriz de translacao\n",
    "t_x = 0\n",
    "\n",
    "def key_event(window,key,scancode,action,mods):\n",
    "    global t_x, game_should_close, player_shoot, bullet_position_x, bullet_position_y\n",
    "    \n",
    "    #print('[key event] key=',key)\n",
    "#     print('[key event] scancode=',scancode)\n",
    "#     print('[key event] action=',action)\n",
    "#     print('[key event] mods=',mods)\n",
    "#     print('-------')\n",
    "    if key == 263 or key == 65: t_x -= 0.01 #movimenta o jogador para a esquerda com a tecla esquerda ou a tecla a\n",
    "    if key == 262 or key == 68: t_x += 0.01 #movimenta o jogador para a direita com a tecla direita ou a tecla d\n",
    "        \n",
    "    if key == 256 or key == 261: # tecla esc or del fecham o jogo\n",
    "        game_should_close = 1\n",
    "        \n",
    "    if key == 32 and not player_shoot: # barra de espaço atira\n",
    "        player_shoot = 1\n",
    "        bullet_position_x = player_center_x\n",
    "        bullet_position_y = -0.95\n",
    "        \n",
    "    \n",
    "glfw.set_key_callback(window,key_event)\n",
    "\n"
   ]
  },
  {
   "cell_type": "markdown",
   "metadata": {},
   "source": [
    "### Loop principal da janela.\n",
    "Enquanto a janela não for fechada, esse laço será executado. É neste espaço que trabalhamos com algumas interações com a OpenGL.\n",
    "\n",
    "A novidade agora é a função glDrawArrays()\n",
    "\n",
    "Tal função recebe o tipo de primitiva (GL_TRIANGLES), o índice inicial do array de vértices (vamos mostrar todos os três vértices, por isso começamos com 0) e a quantidade de vértices ( len(vertices) )."
   ]
  },
  {
   "cell_type": "code",
   "execution_count": 21,
   "metadata": {},
   "outputs": [],
   "source": [
    "enemy_max_shift = lateral_space # máximo que o inimigo pode andar em uma direção\n",
    "enemy_direction = 1 # direção do inimigo (direita = 1, esquerda = -1)\n",
    "enemy_speed = 0.00001 # velocidade com que o inimigo anda\n",
    "enemy_initial_speed = np.copy(enemy_speed)\n",
    "e_x = 0.0 # quantidade que o inimigo andou\n",
    "e_y = 0.0 # altura em que o inimigo se encontra\n",
    "\n",
    "bullet_rotation = 0\n",
    "bullet_rotation_speed = 0.017\n",
    "bullet_speed = 0.0007\n",
    "\n",
    "killed_enemies = []\n",
    "killed_enemies_scale = np.full(enemy_total, 1.00)\n",
    "killed_enemies_rotation = np.zeros(enemy_total)\n",
    "killed_enemies_x = np.zeros(enemy_total)\n",
    "killed_enemies_y = np.zeros(enemy_total)\n",
    "\n",
    "initial_vertices = np.copy(vertices)\n",
    "\n",
    "glfw.show_window(window)\n",
    "while not glfw.window_should_close(window) and not game_should_close:\n",
    "    player_center_x = t_x\n",
    "    \n",
    "    glfw.poll_events() \n",
    "\n",
    "    e_x = e_x + (enemy_speed * enemy_direction)\n",
    "    \n",
    "    # quando o inimigo atingir uma dar bordas, a velocidade dele é adicionada com a velocidade inicial dividida por 2\n",
    "    if (e_x > enemy_max_shift and enemy_direction) or (e_x < enemy_max_shift * -1 and enemy_direction == -1):\n",
    "        e_y = e_y - 1/division_factor\n",
    "        enemy_speed = enemy_speed + enemy_initial_speed/2\n",
    "\n",
    "    # troca a direção do inimigo quando atingir uma das bordas\n",
    "    if e_x > enemy_max_shift and enemy_direction == 1:\n",
    "        enemy_direction = -1\n",
    "    elif e_x < enemy_max_shift * -1 and enemy_direction == -1:\n",
    "        enemy_direction = 1\n",
    "        \n",
    "    \n",
    "    glClear(GL_COLOR_BUFFER_BIT) \n",
    "    glClearColor(0.0, 0.0, 0.0, 1.0)\n",
    "    \n",
    "    \n",
    "    # DESENHANDO OS INIMIGOS\n",
    "    glUniform4f(loc_color, 1.0, 1.0, 1.0, 1.0) ### modificando a cor do objeto!\n",
    "\n",
    "    #Draw Triangle\n",
    "    mat_translation = np.array([    1.0, 0.0, 0.0, e_x, \n",
    "                                    0.0, 1.0, 0.0, e_y, \n",
    "                                    0.0, 0.0, 1.0, 0.0, \n",
    "                                    0.0, 0.0, 0.0, 1.0], np.float32)\n",
    "    \n",
    "    loc = glGetUniformLocation(program, \"mat_transformation\")\n",
    "    glUniformMatrix4fv(loc, 1, GL_TRUE, mat_translation)\n",
    "\n",
    "    #adiciona os inimigos\n",
    "    for i in range(0 , enemy_total):\n",
    "        # se o inimigo já não estiver sido morto\n",
    "        if i not in killed_enemies:\n",
    "            v1 = np.copy(initial_vertices['position'][i * 4 + 1])\n",
    "            v2 = np.copy(initial_vertices['position'][i * 4 + 2])\n",
    "            v1[0] = v1[0] + e_x\n",
    "            v2[0] = v2[0] + e_x\n",
    "            # detecta a colisão entre o inimigo e a bala do jogador\n",
    "            if (inside_square(v1, v2, bullet_position_x, bullet_position_y) and player_shoot):\n",
    "                killed_enemies.append(i)\n",
    "                killed_enemies_x[i] = e_x\n",
    "                killed_enemies_y[i] = e_y\n",
    "                player_shoot = 0\n",
    "                \n",
    "            # se não houver colisão entre eles, adiciona o inimigo na tela\n",
    "            else:\n",
    "                glDrawArrays(GL_TRIANGLE_STRIP, i * 4, 4)\n",
    "                    \n",
    "\n",
    "    \n",
    "    # DESENHANDO OS INIMIGOS QUE FORAM MORTOS\n",
    "    for i in killed_enemies:\n",
    "        k_s = killed_enemies_scale[i]\n",
    "        k_x = killed_enemies_x[i]\n",
    "        k_y = killed_enemies_y[i]\n",
    "        k_r = killed_enemies_rotation[i]\n",
    "        if k_s > 0:\n",
    "            killed_enemies_rotation[i] = killed_enemies_rotation[i] + 0.001\n",
    "            killed_enemies_scale[i] = killed_enemies_scale[i] - 0.0008\n",
    "            killed_enemies_y[i] = killed_enemies_y[i] - 0.001\n",
    "            mat_scale = np.array([  k_s, 0.0, 0.0, 0.0, \n",
    "                                    0.0, k_s, 0.0, 0.0, \n",
    "                                    0.0, 0.0, 1.0, 0.0, \n",
    "                                    0.0, 0.0, 0.0, 1.0], np.float32)\n",
    "            \n",
    "            mat_translation = np.array([    1.0, 0.0, 0.0, k_x, \n",
    "                                            0.0, 1.0, 0.0, k_y, \n",
    "                                            0.0, 0.0, 1.0, 0.0, \n",
    "                                            0.0, 0.0, 0.0, 1.0], np.float32)\n",
    "            \n",
    "            mat_rotation = np.array([   np.cos(k_r), -np.sin(k_r), 0.0, 0.0, \n",
    "                                        np.sin(k_r),  np.cos(k_r), 0.0, 0.0, \n",
    "                                        0.0,          0.0,         1.0, 0.0, \n",
    "                                        0.0,          0.0,         0.0, 1.0], np.float32)\n",
    "            \n",
    "            \n",
    "            mat_final = multiplica_matriz(mat_translation, mat_rotation)\n",
    "            mat_final = multiplica_matriz(mat_final, mat_scale)\n",
    "            \n",
    "            loc = glGetUniformLocation(program, \"mat_transformation\")\n",
    "            glUniformMatrix4fv(loc, 1, GL_TRUE, mat_final)\n",
    "            glDrawArrays(GL_TRIANGLE_STRIP, i * 4, 4)\n",
    "            \n",
    "    \n",
    "    \n",
    "    # DESENHANDO O PLAYER\n",
    "    glUniform4f(loc_color, 0.0, 1.0, 0.0, 1.0) ### modificando a cor do objeto!\n",
    "    #impede o player de transladar para fora da tela\n",
    "    if t_x > 1 - enemy_max_shift/2:\n",
    "        t_x =  1 - enemy_max_shift/2\n",
    "    if t_x < (1 - enemy_max_shift/2) * -1:\n",
    "        t_x = -1 + enemy_max_shift/2\n",
    "        \n",
    "    mat_translation = np.array([    1.0, 0.0, 0.0, t_x, \n",
    "                                    0.0, 1.0, 0.0, 0.0, \n",
    "                                    0.0, 0.0, 1.0, 0.0, \n",
    "                                    0.0, 0.0, 0.0, 1.0], np.float32)\n",
    "    \n",
    "    loc = glGetUniformLocation(program, \"mat_transformation\")\n",
    "    glUniformMatrix4fv(loc, 1, GL_TRUE, mat_translation)\n",
    "    \n",
    "    glDrawArrays(GL_TRIANGLES, enemy_vcount, 3)\n",
    "    glDrawArrays(GL_TRIANGLE_STRIP, enemy_vcount + 3, 4)\n",
    "    \n",
    "    \n",
    "    \n",
    "    # DESENHANDO O TIRO\n",
    "    if player_shoot and bullet_position_y > 1:\n",
    "        player_shoot = 0\n",
    "    \n",
    "    if player_shoot:\n",
    "        glUniform4f(loc_color, 0.0, 1.0, 0.0, 1.0) ### modificando a cor do objeto!\n",
    "        bullet_position_y = bullet_position_y + bullet_speed\n",
    "        bullet_rotation = bullet_rotation + bullet_rotation_speed\n",
    "\n",
    "        mat_translation = np.array([    1.0, 0.0, 0.0, bullet_position_x, \n",
    "                                        0.0, 1.0, 0.0, bullet_position_y, \n",
    "                                        0.0, 0.0, 1.0, 0.0, \n",
    "                                        0.0, 0.0, 0.0, 1.0], np.float32)\n",
    "\n",
    "        mat_rotation = np.array([       np.cos(bullet_rotation), -np.sin(bullet_rotation), 0.0, 0.0, \n",
    "                                        np.sin(bullet_rotation),  np.cos(bullet_rotation), 0.0, 0.0, \n",
    "                                        0.0,          0.0,         1.0, 0.0, \n",
    "                                        0.0,          0.0,         0.0, 1.0], np.float32)\n",
    "\n",
    "\n",
    "\n",
    "        mat_final = multiplica_matriz(mat_translation, mat_rotation)\n",
    "\n",
    "        loc = glGetUniformLocation(program, \"mat_transformation\")\n",
    "        glUniformMatrix4fv(loc, 1, GL_TRUE, mat_final)\n",
    "\n",
    "        glDrawArrays(GL_TRIANGLE_STRIP, enemy_vcount + 7, 4)\n",
    "\n",
    "    \n",
    "    glfw.swap_buffers(window)\n",
    "\n",
    "glfw.terminate()"
   ]
  }
 ],
 "metadata": {
  "finalized": {
   "timestamp": 1583114796072,
   "trusted": true
  },
  "kernelspec": {
   "display_name": "Python 3",
   "language": "python",
   "name": "python3"
  },
  "language_info": {
   "codemirror_mode": {
    "name": "ipython",
    "version": 3
   },
   "file_extension": ".py",
   "mimetype": "text/x-python",
   "name": "python",
   "nbconvert_exporter": "python",
   "pygments_lexer": "ipython3",
   "version": "3.8.5"
  }
 },
 "nbformat": 4,
 "nbformat_minor": 4
}
