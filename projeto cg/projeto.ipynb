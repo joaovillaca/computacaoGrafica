{
 "cells": [
  {
   "cell_type": "markdown",
   "metadata": {},
   "source": [
    "# Projeto II - SCC0250\n",
    "## João Villaça - 10724239\n",
    "## Sergio Piza  -  9361073\n",
    "\n",
    "#### Instruções:\n",
    "- wasd: se movimenta pela cena\n",
    "- mouse: olha ao redor\n",
    "- espaço: chuta a bola de futebol"
   ]
  },
  {
   "cell_type": "markdown",
   "metadata": {},
   "source": [
    "### Configurações de janela, código de shader e linkagem:"
   ]
  },
  {
   "cell_type": "code",
   "execution_count": 727,
   "metadata": {},
   "outputs": [],
   "source": [
    "import glfw\n",
    "from OpenGL.GL import *\n",
    "import OpenGL.GL.shaders\n",
    "import numpy as np\n",
    "import glm\n",
    "import math\n",
    "import time\n",
    "from PIL import Image\n",
    "\n",
    "glfw.init()\n",
    "glfw.window_hint(glfw.VISIBLE, glfw.FALSE);\n",
    "altura = 1080\n",
    "largura = 1920\n",
    "window = glfw.create_window(largura, altura, \"Projeto 2\", None, None)\n",
    "glfw.make_context_current(window)\n",
    "\n",
    "vertex_code = \"\"\"\n",
    "        attribute vec3 position;\n",
    "        attribute vec2 texture_coord;\n",
    "        varying   vec2 out_texture;\n",
    "                \n",
    "        uniform mat4 model;\n",
    "        uniform mat4 view;\n",
    "        uniform mat4 projection;        \n",
    "        \n",
    "        void main(){\n",
    "            gl_Position = projection * view * model * vec4(position,1.0);\n",
    "            out_texture = vec2(texture_coord);\n",
    "        }\n",
    "        \"\"\"\n",
    "\n",
    "fragment_code = \"\"\"\n",
    "        uniform vec4 color;\n",
    "        varying vec2 out_texture;\n",
    "        uniform sampler2D samplerTexture;\n",
    "        \n",
    "        void main(){\n",
    "            vec4 texture = texture2D(samplerTexture, out_texture);\n",
    "            gl_FragColor = texture;\n",
    "        }\n",
    "        \"\"\"\n",
    "\n",
    "# Request a program and shader slots from GPU\n",
    "program  = glCreateProgram()\n",
    "vertex   = glCreateShader(GL_VERTEX_SHADER)\n",
    "fragment = glCreateShader(GL_FRAGMENT_SHADER)\n",
    "\n",
    "# Set shaders source\n",
    "glShaderSource(vertex, vertex_code)\n",
    "glShaderSource(fragment, fragment_code)\n",
    "\n",
    "# Compile shaders\n",
    "glCompileShader(vertex)\n",
    "if not glGetShaderiv(vertex, GL_COMPILE_STATUS):\n",
    "    error = glGetShaderInfoLog(vertex).decode()\n",
    "    print(error)\n",
    "    raise RuntimeError(\"Erro de compilacao do Vertex Shader\")\n",
    "    \n",
    "glCompileShader(fragment)\n",
    "if not glGetShaderiv(fragment, GL_COMPILE_STATUS):\n",
    "    error = glGetShaderInfoLog(fragment).decode()\n",
    "    print(error)\n",
    "    raise RuntimeError(\"Erro de compilacao do Fragment Shader\")\n",
    "    \n",
    "# Attach shader objects to the program\n",
    "glAttachShader(program, vertex)\n",
    "glAttachShader(program, fragment)\n",
    "\n",
    "# Build program\n",
    "glLinkProgram(program)\n",
    "if not glGetProgramiv(program, GL_LINK_STATUS):\n",
    "    print(glGetProgramInfoLog(program))\n",
    "    raise RuntimeError('Linking error')\n",
    "    \n",
    "# Make program the default program\n",
    "glUseProgram(program)"
   ]
  },
  {
   "cell_type": "markdown",
   "metadata": {},
   "source": [
    "# Carregar wavefront (.obj):"
   ]
  },
  {
   "cell_type": "code",
   "execution_count": 728,
   "metadata": {},
   "outputs": [],
   "source": [
    "def load_model_from_file(filename):\n",
    "    \"\"\"Loads a Wavefront OBJ file. \"\"\"\n",
    "    objects = {}\n",
    "    vertices = []\n",
    "    texture_coords = []\n",
    "    faces = []\n",
    "\n",
    "    material = None\n",
    "\n",
    "    # abre o arquivo obj para leitura\n",
    "    for line in open(filename, \"r\"): ## para cada linha do arquivo .obj\n",
    "        if line.startswith('#'): continue ## ignora comentarios\n",
    "        values = line.split() # quebra a linha por espaço\n",
    "        if not values: continue\n",
    "\n",
    "\n",
    "        ### recuperando vertices\n",
    "        if values[0] == 'v':\n",
    "            vertices.append(values[1:4])\n",
    "\n",
    "\n",
    "        ### recuperando coordenadas de textura\n",
    "        elif values[0] == 'vt':\n",
    "            texture_coords.append(values[1:3])\n",
    "\n",
    "        ### recuperando faces \n",
    "        elif values[0] in ('usemtl', 'usemat'):\n",
    "            material = values[1]\n",
    "        elif values[0] == 'f':\n",
    "            face = []\n",
    "            face_texture = []\n",
    "            for v in values[1:]:\n",
    "                w = v.split('/')\n",
    "                face.append(int(w[0]))\n",
    "                if len(w) >= 2 and len(w[1]) > 0:\n",
    "                    face_texture.append(int(w[1]))\n",
    "                else:\n",
    "                    face_texture.append(0)\n",
    "\n",
    "            faces.append((face, face_texture, material))\n",
    "\n",
    "    model = {}\n",
    "    model['vertices'] = vertices\n",
    "    model['texture'] = texture_coords\n",
    "    model['faces'] = faces\n",
    "\n",
    "    return model"
   ]
  },
  {
   "cell_type": "markdown",
   "metadata": {},
   "source": [
    "# Carregar textura"
   ]
  },
  {
   "cell_type": "code",
   "execution_count": 729,
   "metadata": {},
   "outputs": [],
   "source": [
    "glEnable(GL_TEXTURE_2D)\n",
    "qtd_texturas = 10\n",
    "textures = glGenTextures(qtd_texturas)\n",
    "\n",
    "def load_texture_from_file(texture_id, img_textura):\n",
    "    glBindTexture(GL_TEXTURE_2D, texture_id)\n",
    "    glTexParameteri(GL_TEXTURE_2D, GL_TEXTURE_WRAP_S, GL_REPEAT)\n",
    "    glTexParameteri(GL_TEXTURE_2D, GL_TEXTURE_WRAP_T, GL_REPEAT)\n",
    "    glTexParameteri(GL_TEXTURE_2D, GL_TEXTURE_MIN_FILTER, GL_LINEAR)\n",
    "    glTexParameteri(GL_TEXTURE_2D, GL_TEXTURE_MAG_FILTER, GL_LINEAR)\n",
    "    img = Image.open(img_textura)\n",
    "    print(img_textura,img.mode)\n",
    "    img_width = img.size[0]\n",
    "    img_height = img.size[1]\n",
    "    #image_data = img.tobytes(\"raw\", \"RGB\", 0, -1)\n",
    "    image_data = img.convert(\"RGBA\").tobytes(\"raw\", \"RGBA\",0,-1)\n",
    "\n",
    "    #image_data = np.array(list(img.getdata()), np.uint8)\n",
    "    glTexImage2D(GL_TEXTURE_2D, 0, GL_RGBA, img_width, img_height, 0, GL_RGBA, GL_UNSIGNED_BYTE, image_data)"
   ]
  },
  {
   "cell_type": "markdown",
   "metadata": {},
   "source": [
    "### A lista abaixo armazena todos os vertices carregados dos arquivos"
   ]
  },
  {
   "cell_type": "code",
   "execution_count": 730,
   "metadata": {},
   "outputs": [],
   "source": [
    "vertices_list = []    \n",
    "textures_coord_list = []"
   ]
  },
  {
   "cell_type": "markdown",
   "metadata": {},
   "source": [
    "## Matrizes Model, View e Projection"
   ]
  },
  {
   "cell_type": "code",
   "execution_count": 731,
   "metadata": {},
   "outputs": [],
   "source": [
    "def model(angle, r_x, r_y, r_z, t_x, t_y, t_z, s_x, s_y, s_z):\n",
    "    \n",
    "    angle = math.radians(angle)\n",
    "    \n",
    "    matrix_transform = glm.mat4(1.0) # instanciando uma matriz identidade\n",
    "\n",
    "    \n",
    "    # aplicando translacao\n",
    "    matrix_transform = glm.translate(matrix_transform, glm.vec3(t_x, t_y, t_z))    \n",
    "    \n",
    "    # aplicando rotacao\n",
    "    matrix_transform = glm.rotate(matrix_transform, angle, glm.vec3(r_x, r_y, r_z))\n",
    "    \n",
    "    # aplicando escala\n",
    "    matrix_transform = glm.scale(matrix_transform, glm.vec3(s_x, s_y, s_z))\n",
    "    \n",
    "    matrix_transform = np.array(matrix_transform).T # pegando a transposta da matriz (glm trabalha com ela invertida)\n",
    "    \n",
    "    return matrix_transform\n",
    "\n",
    "def view():\n",
    "    global cameraPos, cameraFront, cameraUp\n",
    "    mat_view = glm.lookAt(cameraPos, cameraPos + cameraFront, cameraUp);\n",
    "    mat_view = np.array(mat_view)\n",
    "    return mat_view\n",
    "\n",
    "def projection():\n",
    "    global altura, largura\n",
    "    # perspective parameters: fovy, aspect, near, far\n",
    "    mat_projection = glm.perspective(glm.radians(45.0), largura/altura, 0.1, 1000.0)\n",
    "    mat_projection = np.array(mat_projection)    \n",
    "    return mat_projection"
   ]
  },
  {
   "cell_type": "markdown",
   "metadata": {},
   "source": [
    "# Função dinâmica para desenhar cada objeto:"
   ]
  },
  {
   "cell_type": "code",
   "execution_count": 732,
   "metadata": {},
   "outputs": [],
   "source": [
    "def draw_object(obj, angle=90.0, r_x = 0.0, r_y = 1.0, r_z = 0.0, t_x=0.0, t_y=0.0, t_z=0.0, s_x = 1.0, s_y = 1.0, s_z = 1.0, custom_mat_model = []):\n",
    "    mat_model = custom_mat_model if len(custom_mat_model) > 0 else model(angle, r_x, r_y, r_z, t_x, t_y, t_z, s_x, s_y, s_z)\n",
    "    loc_model = glGetUniformLocation(program, \"model\")\n",
    "    glUniformMatrix4fv(loc_model, 1, GL_TRUE, mat_model)\n",
    "       \n",
    "    #define id da textura do modelo\n",
    "    glBindTexture(GL_TEXTURE_2D, obj['textid'])\n",
    "\n",
    "    # desenha o modelo\n",
    "    glDrawArrays(GL_TRIANGLES, obj['initial_vertice'], obj['obj_size']) ## renderizando"
   ]
  },
  {
   "cell_type": "code",
   "execution_count": 733,
   "metadata": {},
   "outputs": [],
   "source": [
    "# import glfw\n",
    "# from OpenGL.GL import *\n",
    "# import OpenGL.GL.shaders\n",
    "# import numpy as np\n",
    "# import glm\n",
    "# import math\n",
    "# from PIL import Image\n",
    "\n",
    "# len([])"
   ]
  },
  {
   "cell_type": "markdown",
   "metadata": {},
   "source": [
    "### Vamos carregar cada modelo e definir funções para desenhá-los"
   ]
  },
  {
   "cell_type": "code",
   "execution_count": 734,
   "metadata": {},
   "outputs": [],
   "source": [
    "textid = 0\n",
    "def load2project(pathname, objname, textname):\n",
    "    global vertices_list, textures_coord_list, textid\n",
    "    modelo = load_model_from_file(pathname + '/' + objname + '.obj')\n",
    "    print('Processando modelo '+ objname +'.obj. Vertice inicial:',len(vertices_list))\n",
    "    \n",
    "    res = dict()\n",
    "    res['initial_vertice'] = len(vertices_list)\n",
    "    \n",
    "    pos = {\n",
    "        'max_x': float('-inf'),\n",
    "        'max_y': float('-inf'),\n",
    "        'max_z': float('-inf'),\n",
    "        'min_x': float('inf'),\n",
    "        'min_y': float('inf'),\n",
    "        'min_z': float('inf'),\n",
    "        'center_x': 0.0,\n",
    "        'center_y': 0.0,\n",
    "        'center_z': 0.0\n",
    "    }\n",
    "    #print(pos)\n",
    "    for face in modelo['faces']:\n",
    "        for vertice_id in face[0]:\n",
    "            v = modelo['vertices'][vertice_id-1]\n",
    "            if float(v[0]) > float(pos['max_x']): pos['max_x'] = v[0]\n",
    "            if float(v[0]) < float(pos['min_x']): pos['min_x'] = v[0]\n",
    "            if float(v[1]) > float(pos['max_y']): pos['max_y'] = v[1]\n",
    "            if float(v[1]) < float(pos['min_y']): pos['min_y'] = v[1]\n",
    "            if float(v[2]) > float(pos['max_z']): pos['max_z'] = v[2]\n",
    "            if float(v[2]) < float(pos['min_z']): pos['min_z'] = v[2]\n",
    "                \n",
    "            vertices_list.append( v )\n",
    "        for texture_id in face[1]:\n",
    "            textures_coord_list.append( modelo['texture'][texture_id-1] )\n",
    "    \n",
    "    print('Processando modelo '+ objname +'.obj. Vertice final:',len(vertices_list))\n",
    "    res['obj_size'] = len(vertices_list) - res['initial_vertice']\n",
    "    ### inserindo coordenadas de textura do modelo no vetor de texturas\n",
    "    \n",
    "    ### carregando textura equivalente e definindo um id (buffer): use um id por textura!\n",
    "    \n",
    "    pos['center_x'] = (float(pos['max_x']) + float(pos['min_x'])) / 2.0\n",
    "    pos['center_y'] = (float(pos['max_y']) + float(pos['min_y'])) / 2.0\n",
    "    pos['center_z'] = (float(pos['max_z']) + float(pos['min_z'])) / 2.0\n",
    "    \n",
    "    res['pos'] = pos\n",
    "    \n",
    "    load_texture_from_file(textid, pathname + '/' + textname)\n",
    "    print(\"Textura do modelo \" + objname + ' carregada com o id:', textid)\n",
    "    res['textid'] = textid\n",
    "    textid = textid + 1\n",
    "    print(pos)\n",
    "    \n",
    "    return res"
   ]
  },
  {
   "cell_type": "code",
   "execution_count": 735,
   "metadata": {},
   "outputs": [],
   "source": [
    "# lista apenas para lembrar o nome das funçoes draw\n",
    "draw_functions = []"
   ]
  },
  {
   "cell_type": "code",
   "execution_count": 736,
   "metadata": {},
   "outputs": [
    {
     "name": "stdout",
     "output_type": "stream",
     "text": [
      "Processando modelo grama.obj. Vertice inicial: 0\n",
      "Processando modelo grama.obj. Vertice final: 6\n",
      "planograma/dirt.jpg RGB\n",
      "Textura do modelo grama carregada com o id: 0\n",
      "{'max_x': '225.627914', 'max_y': '-3.512040', 'max_z': '259.397247', 'min_x': '-240.031204', 'min_y': '-3.512040', 'min_z': '-223.904938', 'center_x': -7.201644999999999, 'center_y': -3.51204, 'center_z': 17.746154500000003}\n"
     ]
    }
   ],
   "source": [
    "# Terreno\n",
    "terreno = load2project('planograma', 'grama', 'dirt.jpg')\n",
    "def draw_terreno():\n",
    "    draw_object(terreno)\n",
    "draw_functions.append('draw_terreno')"
   ]
  },
  {
   "cell_type": "code",
   "execution_count": 737,
   "metadata": {},
   "outputs": [
    {
     "name": "stdout",
     "output_type": "stream",
     "text": [
      "Processando modelo cobble.obj. Vertice inicial: 6\n",
      "Processando modelo cobble.obj. Vertice final: 12\n",
      "planocobble/cobble.jpg RGB\n",
      "Textura do modelo cobble carregada com o id: 1\n",
      "{'max_x': '10.398918', 'max_y': '-3.413201', 'max_z': '40.034821', 'min_x': '-5.240333', 'min_y': '-3.413201', 'min_z': '8.307867', 'center_x': 2.5792925, 'center_y': -3.413201, 'center_z': 24.171344}\n"
     ]
    }
   ],
   "source": [
    "# Pedras da entrada\n",
    "cobble = load2project('planocobble', 'cobble', 'cobble.jpg')\n",
    "def draw_cobble():\n",
    "    draw_object(cobble)\n",
    "draw_functions.append('draw_cobble')"
   ]
  },
  {
   "cell_type": "code",
   "execution_count": 738,
   "metadata": {},
   "outputs": [
    {
     "name": "stdout",
     "output_type": "stream",
     "text": [
      "Processando modelo road.obj. Vertice inicial: 12\n",
      "Processando modelo road.obj. Vertice final: 18\n",
      "planorua/road.jpg RGB\n",
      "Textura do modelo road carregada com o id: 2\n",
      "{'max_x': '228.508713', 'max_y': '-2.907825', 'max_z': '59.497547', 'min_x': '-241.161179', 'min_y': '-2.907825', 'min_z': '39.673550', 'center_x': -6.326233000000002, 'center_y': -2.907825, 'center_z': 49.5855485}\n"
     ]
    }
   ],
   "source": [
    "rua = load2project('planorua', 'road', 'road.jpg')\n",
    "def draw_rua():\n",
    "    draw_object(rua)\n",
    "draw_functions.append('draw_rua')"
   ]
  },
  {
   "cell_type": "code",
   "execution_count": 739,
   "metadata": {},
   "outputs": [
    {
     "name": "stdout",
     "output_type": "stream",
     "text": [
      "Processando modelo ceu.obj. Vertice inicial: 18\n",
      "Processando modelo ceu.obj. Vertice final: 2898\n",
      "ceu/ceu.jpg RGB\n",
      "Textura do modelo ceu carregada com o id: 3\n",
      "{'max_x': '210.377884', 'max_y': '210.377945', 'max_z': '210.377823', 'min_x': '-210.377747', 'min_y': '-210.377945', 'min_z': '-210.377686', 'center_x': 6.849999999758438e-05, 'center_y': 0.0, 'center_z': 6.849999999758438e-05}\n"
     ]
    }
   ],
   "source": [
    "ceu = load2project('ceu', 'ceu', 'ceu.jpg')\n",
    "def draw_ceu():\n",
    "    draw_object(ceu)\n",
    "draw_functions.append('draw_ceu')"
   ]
  },
  {
   "cell_type": "code",
   "execution_count": 740,
   "metadata": {},
   "outputs": [
    {
     "name": "stdout",
     "output_type": "stream",
     "text": [
      "Processando modelo cama.obj. Vertice inicial: 2898\n",
      "Processando modelo cama.obj. Vertice final: 13905\n",
      "cama/cama.jpg RGB\n",
      "Textura do modelo cama carregada com o id: 4\n",
      "{'max_x': '10.240434', 'max_y': '-2.580297', 'max_z': '-1.248173', 'min_x': '7.411808', 'min_y': '-3.341752', 'min_z': '-7.418717', 'center_x': 8.826121, 'center_y': -2.9610244999999997, 'center_z': -4.333445}\n"
     ]
    }
   ],
   "source": [
    "cama = load2project('cama', 'cama', 'cama.jpg')\n",
    "def draw_cama():\n",
    "    draw_object(cama)\n",
    "draw_functions.append('draw_cama')"
   ]
  },
  {
   "cell_type": "code",
   "execution_count": 741,
   "metadata": {},
   "outputs": [
    {
     "name": "stdout",
     "output_type": "stream",
     "text": [
      "Carregando Modelos da Bola de Disco\n",
      "Processando modelo cilinder.obj. Vertice inicial: 13905\n",
      "Processando modelo cilinder.obj. Vertice final: 14277\n",
      "discoball/discoball.jpg RGB\n",
      "Textura do modelo cilinder carregada com o id: 5\n",
      "{'max_x': '2.522663', 'max_y': '10.481915', 'max_z': '-5.990288', 'min_x': '2.475950', 'min_y': '7.531761', 'min_z': '-6.037001', 'center_x': 2.4993065000000003, 'center_y': 9.006838, 'center_z': -6.0136445}\n",
      "Processando modelo sphere.obj. Vertice inicial: 14277\n",
      "Processando modelo sphere.obj. Vertice final: 17157\n",
      "discoball/discoball.jpg RGB\n",
      "Textura do modelo sphere carregada com o id: 6\n",
      "{'max_x': '3.500000', 'max_y': '7.600000', 'max_z': '-5.000000', 'min_x': '1.500001', 'min_y': '5.600000', 'min_z': '-6.999999', 'center_x': 2.5000005, 'center_y': 6.6, 'center_z': -5.9999994999999995}\n"
     ]
    }
   ],
   "source": [
    "# Discoball\n",
    "print('Carregando Modelos da Bola de Disco')\n",
    "discoball_cylinder = load2project('discoball', 'cilinder', 'discoball.jpg')\n",
    "discoball_sphere = load2project('discoball', 'sphere', 'discoball.jpg')\n",
    "\n",
    "def draw_disco_cylinder():\n",
    "    draw_object(discoball_cylinder)\n",
    "    \n",
    "def draw_disco_ball():\n",
    "    draw_object(discoball_sphere)\n",
    "\n",
    "draw_functions.append('draw_disco_cylinder')\n",
    "draw_functions.append('draw_disco_ball')"
   ]
  },
  {
   "cell_type": "code",
   "execution_count": 742,
   "metadata": {},
   "outputs": [
    {
     "name": "stdout",
     "output_type": "stream",
     "text": [
      "Carregando Modelos da Casa\n",
      "Processando modelo casa.obj. Vertice inicial: 17157\n",
      "Processando modelo casa.obj. Vertice final: 18591\n",
      "casa/casa.png RGBA\n",
      "Textura do modelo casa carregada com o id: 7\n",
      "{'max_x': '11.877134', 'max_y': '10.703957', 'max_z': '10.126760', 'min_x': '-6.908408', 'min_y': '-3.969795', 'min_z': '-23.702276', 'center_x': 2.484363, 'center_y': 3.3670810000000007, 'center_z': -6.787758}\n",
      "Processando modelo chao.obj. Vertice inicial: 18591\n",
      "Processando modelo chao.obj. Vertice final: 18597\n",
      "casa/chao.jpg RGB\n",
      "Textura do modelo chao carregada com o id: 8\n",
      "{'max_x': '10.510990', 'max_y': '-3.346187', 'max_z': '8.664543', 'min_x': '-5.434722', 'min_y': '-3.346187', 'min_z': '-21.874592', 'center_x': 2.538134, 'center_y': -3.346187, 'center_z': -6.6050245}\n"
     ]
    }
   ],
   "source": [
    "# Casa\n",
    "print('Carregando Modelos da Casa')\n",
    "casa = load2project('casa', 'casa', 'casa.png')\n",
    "casa_chao = load2project('casa', 'chao', 'chao.jpg')\n",
    "\n",
    "def draw_casa():\n",
    "    draw_object(casa)\n",
    "    draw_object(casa_chao)\n",
    "    \n",
    "draw_functions.append('draw_casa')"
   ]
  },
  {
   "cell_type": "code",
   "execution_count": 743,
   "metadata": {},
   "outputs": [
    {
     "name": "stdout",
     "output_type": "stream",
     "text": [
      "Processando modelo ball.obj. Vertice inicial: 18597\n",
      "Processando modelo ball.obj. Vertice final: 174117\n",
      "ball/ball.jpg RGB\n",
      "Textura do modelo ball carregada com o id: 9\n",
      "{'max_x': '34.001717', 'max_y': '-1.506713', 'max_z': '20.998991', 'min_x': '31.998283', 'min_y': '-3.511339', 'min_z': '19.001011', 'center_x': 33.0, 'center_y': -2.509026, 'center_z': 20.000000999999997}\n"
     ]
    }
   ],
   "source": [
    "bola = load2project('ball', 'ball', 'ball.jpg')\n",
    "def draw_bola():\n",
    "    draw_object(bola)\n",
    "    \n",
    "draw_functions.append('draw_bola')"
   ]
  },
  {
   "cell_type": "code",
   "execution_count": 744,
   "metadata": {},
   "outputs": [
    {
     "name": "stdout",
     "output_type": "stream",
     "text": [
      "Processando modelo fridge.obj. Vertice inicial: 174117\n",
      "Processando modelo fridge.obj. Vertice final: 176397\n",
      "fridge/fridge.jpg RGB\n",
      "Textura do modelo fridge carregada com o id: 10\n",
      "{'max_x': '-3.331487', 'max_y': '1.456667', 'max_z': '-5.021071', 'min_x': '-5.492515', 'min_y': '-3.216821', 'min_z': '-6.932312', 'center_x': -4.412001, 'center_y': -0.880077, 'center_z': -5.976691499999999}\n"
     ]
    }
   ],
   "source": [
    "geladeira = load2project('fridge', 'fridge', 'fridge.jpg')\n",
    "def draw_geladeira():\n",
    "    draw_object(geladeira)\n",
    "    \n",
    "draw_functions.append('draw_geladeira')"
   ]
  },
  {
   "cell_type": "code",
   "execution_count": 745,
   "metadata": {},
   "outputs": [
    {
     "name": "stdout",
     "output_type": "stream",
     "text": [
      "Processando modelo arch.obj. Vertice inicial: 176397\n",
      "Processando modelo arch.obj. Vertice final: 180675\n",
      "arch/arch.jpg RGB\n",
      "Textura do modelo arch carregada com o id: 11\n",
      "{'max_x': '49.029488', 'max_y': '17.759346', 'max_z': '2.756157', 'min_x': '18.005220', 'min_y': '-3.766159', 'min_z': '-2.265148', 'center_x': 33.517354, 'center_y': 6.9965935, 'center_z': 0.24550450000000001}\n"
     ]
    }
   ],
   "source": [
    "arco = load2project('arch', 'arch', 'arch.jpg')\n",
    "def draw_arco():\n",
    "    draw_object(arco)\n",
    "    \n",
    "draw_functions.append('draw_arco')"
   ]
  },
  {
   "cell_type": "code",
   "execution_count": 746,
   "metadata": {},
   "outputs": [
    {
     "name": "stdout",
     "output_type": "stream",
     "text": [
      "Carregando Modelos da Árvore\n",
      "Processando modelo leaves.obj. Vertice inicial: 180675\n",
      "Processando modelo leaves.obj. Vertice final: 409131\n",
      "tree/leaves.jpg RGB\n",
      "Textura do modelo leaves carregada com o id: 12\n",
      "{'max_x': '-12.046398', 'max_y': '12.610930', 'max_z': '-3.431961', 'min_x': '-25.182995', 'min_y': '1.890132', 'min_z': '-10.271644', 'center_x': -18.6146965, 'center_y': 7.250531, 'center_z': -6.8518025}\n",
      "Processando modelo wood.obj. Vertice inicial: 409131\n",
      "Processando modelo wood.obj. Vertice final: 624171\n",
      "tree/wood.jpg RGB\n",
      "Textura do modelo wood carregada com o id: 13\n",
      "{'max_x': '-15.783471', 'max_y': '7.068793', 'max_z': '-5.502903', 'min_x': '-22.055389', 'min_y': '-3.521483', 'min_z': '-8.302691', 'center_x': -18.919430000000002, 'center_y': 1.7736550000000002, 'center_z': -6.902797}\n"
     ]
    }
   ],
   "source": [
    "# Árvore\n",
    "print('Carregando Modelos da Árvore')\n",
    "arvore_folhas = load2project('tree', 'leaves', 'leaves.jpg')\n",
    "arvore_tronco = load2project('tree', 'wood', 'wood.jpg')\n",
    "\n",
    "def draw_arvore():\n",
    "    draw_object(arvore_folhas)\n",
    "    draw_object(arvore_tronco)\n",
    "    \n",
    "draw_functions.append('draw_arvore')"
   ]
  },
  {
   "cell_type": "code",
   "execution_count": 747,
   "metadata": {},
   "outputs": [
    {
     "name": "stdout",
     "output_type": "stream",
     "text": [
      "Processando modelo sofa.obj. Vertice inicial: 624171\n",
      "Processando modelo sofa.obj. Vertice final: 648159\n",
      "sofa/sofa.jpg L\n",
      "Textura do modelo sofa carregada com o id: 14\n",
      "{'max_x': '5.551959', 'max_y': '-1.229259', 'max_z': '-10.633554', 'min_x': '-0.835000', 'min_y': '-3.370365', 'min_z': '-13.749717', 'center_x': 2.3584795, 'center_y': -2.299812, 'center_z': -12.1916355}\n"
     ]
    }
   ],
   "source": [
    "sofa = load2project('sofa', 'sofa', 'sofa.jpg')\n",
    "def draw_sofa():\n",
    "    draw_object(sofa)\n",
    "    \n",
    "draw_functions.append('draw_sofa')"
   ]
  },
  {
   "cell_type": "code",
   "execution_count": 748,
   "metadata": {},
   "outputs": [
    {
     "name": "stdout",
     "output_type": "stream",
     "text": [
      "Processando modelo tv.obj. Vertice inicial: 648159\n",
      "Processando modelo tv.obj. Vertice final: 661551\n",
      "tv/tv.png RGBA\n",
      "Textura do modelo tv carregada com o id: 15\n",
      "{'max_x': '6.712265', 'max_y': '1.359798', 'max_z': '-20.589508', 'min_x': '-1.355461', 'min_y': '-3.661088', 'min_z': '-21.019714', 'center_x': 2.678402, 'center_y': -1.150645, 'center_z': -20.804611}\n"
     ]
    }
   ],
   "source": [
    "tv = load2project('tv', 'tv', 'tv.png')\n",
    "def draw_tv():\n",
    "    draw_object(tv)\n",
    "    \n",
    "draw_functions.append('draw_tv')"
   ]
  },
  {
   "cell_type": "code",
   "execution_count": 749,
   "metadata": {},
   "outputs": [],
   "source": [
    "# Request a buffer slot from GPU\n",
    "buffer = glGenBuffers(2)"
   ]
  },
  {
   "cell_type": "code",
   "execution_count": 750,
   "metadata": {},
   "outputs": [],
   "source": [
    "vertices = np.zeros(len(vertices_list), [(\"position\", np.float32, 3)])\n",
    "vertices['position'] = vertices_list\n",
    "\n",
    "\n",
    "# Upload data\n",
    "glBindBuffer(GL_ARRAY_BUFFER, buffer[0])\n",
    "glBufferData(GL_ARRAY_BUFFER, vertices.nbytes, vertices, GL_STATIC_DRAW)\n",
    "stride = vertices.strides[0]\n",
    "offset = ctypes.c_void_p(0)\n",
    "loc_vertices = glGetAttribLocation(program, \"position\")\n",
    "glEnableVertexAttribArray(loc_vertices)\n",
    "glVertexAttribPointer(loc_vertices, 3, GL_FLOAT, False, stride, offset)"
   ]
  },
  {
   "cell_type": "code",
   "execution_count": 751,
   "metadata": {},
   "outputs": [],
   "source": [
    "textures = np.zeros(len(textures_coord_list), [(\"position\", np.float32, 2)]) # duas coordenadas\n",
    "textures['position'] = textures_coord_list\n",
    "\n",
    "\n",
    "# Upload data\n",
    "glBindBuffer(GL_ARRAY_BUFFER, buffer[1])\n",
    "glBufferData(GL_ARRAY_BUFFER, textures.nbytes, textures, GL_STATIC_DRAW)\n",
    "stride = textures.strides[0]\n",
    "offset = ctypes.c_void_p(0)\n",
    "loc_texture_coord = glGetAttribLocation(program, \"texture_coord\")\n",
    "glEnableVertexAttribArray(loc_texture_coord)\n",
    "glVertexAttribPointer(loc_texture_coord, 2, GL_FLOAT, False, stride, offset)"
   ]
  },
  {
   "cell_type": "code",
   "execution_count": 752,
   "metadata": {},
   "outputs": [],
   "source": [
    "# Desenha \n",
    "# def draw_grass():\n",
    "#     draw_object(terreno)"
   ]
  },
  {
   "cell_type": "markdown",
   "metadata": {},
   "source": [
    "# Carrega Pedras Entrada da Casa:"
   ]
  },
  {
   "cell_type": "code",
   "execution_count": 753,
   "metadata": {},
   "outputs": [],
   "source": [
    "# def draw_cbble():\n",
    "#     angle = 90.0;\n",
    "#     r_x = 0.0; r_y = 1.0; r_z = 0.0;\n",
    "#     t_x=0.0;t_y=0.0;t_z=0.0;\n",
    "#     s_x = 1.0; s_y = 1.0; s_z = 1.0;\n",
    "#     mat_model = model(angle, r_x, r_y, r_z, t_x, t_y, t_z, s_x, s_y, s_z)\n",
    "#     loc_model = glGetUniformLocation(program, \"model\")\n",
    "#     glUniformMatrix4fv(loc_model, 1, GL_TRUE, mat_model)\n",
    "       \n",
    "#     #define id da textura do modelo\n",
    "#     glBindTexture(GL_TEXTURE_2D, cobble['textid'])\n",
    "\n",
    "#     # desenha o modelo\n",
    "#     glDrawArrays(GL_TRIANGLES, cobble['initial_vertice'], cobble['obj_size']) ## renderizando"
   ]
  },
  {
   "cell_type": "markdown",
   "metadata": {},
   "source": [
    "# Carrega Rua:"
   ]
  },
  {
   "cell_type": "code",
   "execution_count": 754,
   "metadata": {},
   "outputs": [],
   "source": [
    "# def draw_road():\n",
    "#     angle = 90.0;\n",
    "#     r_x = 0.0; r_y = 1.0; r_z = 0.0;\n",
    "#     t_x=0.0;t_y=0.0;t_z=0.0;\n",
    "#     s_x = 1.0; s_y = 1.0; s_z = 1.0;\n",
    "#     mat_model = model(angle, r_x, r_y, r_z, t_x, t_y, t_z, s_x, s_y, s_z)\n",
    "#     loc_model = glGetUniformLocation(program, \"model\")\n",
    "#     glUniformMatrix4fv(loc_model, 1, GL_TRUE, mat_model)\n",
    "       \n",
    "#     #define id da textura do modelo\n",
    "#     glBindTexture(GL_TEXTURE_2D, rua['textid'])\n",
    "\n",
    "#     # desenha o modelo\n",
    "#     glDrawArrays(GL_TRIANGLES, rua['initial_vertice'], rua['obj_size']) ## renderizando"
   ]
  },
  {
   "cell_type": "markdown",
   "metadata": {},
   "source": [
    "# Carrega Céu:"
   ]
  },
  {
   "cell_type": "code",
   "execution_count": 755,
   "metadata": {},
   "outputs": [],
   "source": [
    "# def draw_sky():\n",
    "#     angle = 90.0;\n",
    "#     r_x = 0.0; r_y = 0.0; r_z = 1.0;\n",
    "#     t_x = 0.0; t_y = -10.1; t_z = 0.0;\n",
    "#     s_x = 5.0; s_y = 5.0; s_z = 5.0;\n",
    "#     mat_model = model(angle, r_x, r_y, r_z, t_x, t_y, t_z, s_x, s_y, s_z)\n",
    "#     loc_model = glGetUniformLocation(program, \"model\")\n",
    "#     glUniformMatrix4fv(loc_model, 1, GL_TRUE, mat_model)\n",
    "       \n",
    "#     #define id da textura do modelo\n",
    "#     glBindTexture(GL_TEXTURE_2D, ceu['textid'])\n",
    "\n",
    "#     # desenha o modelo\n",
    "#     glDrawArrays(GL_TRIANGLES, ceu['initial_vertice'], ceu['obj_size']) ## renderizando"
   ]
  },
  {
   "cell_type": "markdown",
   "metadata": {},
   "source": [
    "# Carrega Casa:"
   ]
  },
  {
   "cell_type": "code",
   "execution_count": 756,
   "metadata": {},
   "outputs": [],
   "source": [
    "# def draw_house():\n",
    "#     angle = 90.0;\n",
    "#     r_x = 0.0; r_y = 1.0; r_z = 0.0;\n",
    "#     t_x = 0.0; t_y = 0.1; t_z = 0.0;\n",
    "#     s_x = 1.0; s_y = 1.0; s_z = 1.0;\n",
    "#     mat_model = model(angle, r_x, r_y, r_z, t_x, t_y, t_z, s_x, s_y, s_z)\n",
    "#     loc_model = glGetUniformLocation(program, \"model\")\n",
    "#     glUniformMatrix4fv(loc_model, 1, GL_TRUE, mat_model)\n",
    "       \n",
    "#     #define id da textura do modelo\n",
    "#     glDisable(GL_TEXTURE_2D)\n",
    "#     glBindTexture(GL_TEXTURE_2D, casa['textid'])\n",
    "\n",
    "#     # desenha o modelo\n",
    "#     glDrawArrays(GL_TRIANGLES, casa['initial_vertice'], casa['obj_size']) ## renderizando"
   ]
  },
  {
   "cell_type": "markdown",
   "metadata": {},
   "source": [
    "### Eventos para modificar a posição da câmera.\n",
    "\n",
    "* Usei as teclas A, S, D e W para movimentação no espaço tridimensional\n",
    "* Usei a posição do mouse para \"direcionar\" a câmera"
   ]
  },
  {
   "cell_type": "code",
   "execution_count": 757,
   "metadata": {},
   "outputs": [],
   "source": [
    "cameraPos   = glm.vec3(50.0,  10.0,  1.0);\n",
    "cameraFront = glm.vec3(0.0,  0.0, -1.0);\n",
    "cameraUp    = glm.vec3(0.0,  1.0,  0.0);\n",
    "\n",
    "\n",
    "polygonal_mode = False\n",
    "\n",
    "ballinfo = dict()\n",
    "ballinfo['moving'] = False\n",
    "ballinfo['acceleration'] = 0\n",
    "ballinfo['speed'] = 0\n",
    "ballinfo['direction'] = 1\n",
    "ballinfo['pos'] = 0\n",
    "ballinfo['rotation'] = 0\n",
    "\n",
    "\n",
    "def key_event(window,key,scancode,action,mods):\n",
    "    global cameraPos, cameraFront, cameraUp, polygonal_mode, ballinfo\n",
    "    \n",
    "    cameraSpeed = 0.8\n",
    "    if key == 87 and (action==1 or action==2): # tecla W\n",
    "        cameraPos += cameraSpeed * cameraFront\n",
    "    \n",
    "    if key == 83 and (action==1 or action==2): # tecla S\n",
    "        cameraPos -= cameraSpeed * cameraFront\n",
    "    \n",
    "    if key == 65 and (action==1 or action==2): # tecla A\n",
    "        cameraPos -= glm.normalize(glm.cross(cameraFront, cameraUp)) * cameraSpeed\n",
    "        \n",
    "    if key == 68 and (action==1 or action==2): # tecla D\n",
    "        cameraPos += glm.normalize(glm.cross(cameraFront, cameraUp)) * cameraSpeed\n",
    "        \n",
    "    if key == 80 and action==1 and polygonal_mode==True:\n",
    "        polygonal_mode=False\n",
    "    else:\n",
    "        if key == 80 and action==1 and polygonal_mode==False:\n",
    "            polygonal_mode=True\n",
    "                    \n",
    "    if key == 32 and action == 1 and ballinfo['moving'] == False:\n",
    "        ballinfo['moving'] = True\n",
    "        ballinfo['acceleration'] = 1\n",
    "        ballinfo['speed'] = 0.1\n",
    "        ballinfo['direction'] *= -1\n",
    "        \n",
    "        \n",
    "        \n",
    "firstMouse = True\n",
    "yaw = -90.0 \n",
    "pitch = 0.0\n",
    "lastX =  largura/2\n",
    "lastY =  altura/2\n",
    "\n",
    "def mouse_event(window, xpos, ypos):\n",
    "    global firstMouse, cameraFront, yaw, pitch, lastX, lastY\n",
    "    if firstMouse:\n",
    "        lastX = xpos\n",
    "        lastY = ypos\n",
    "        firstMouse = False\n",
    "\n",
    "    xoffset = xpos - lastX\n",
    "    yoffset = lastY - ypos\n",
    "    lastX = xpos\n",
    "    lastY = ypos\n",
    "\n",
    "    sensitivity = 0.3 \n",
    "    xoffset *= sensitivity\n",
    "    yoffset *= sensitivity\n",
    "\n",
    "    yaw += xoffset;\n",
    "    pitch += yoffset;\n",
    "\n",
    "    \n",
    "    if pitch >= 90.0: pitch = 90.0\n",
    "    if pitch <= -90.0: pitch = -90.0\n",
    "\n",
    "    front = glm.vec3()\n",
    "    front.x = math.cos(glm.radians(yaw)) * math.cos(glm.radians(pitch))\n",
    "    front.y = math.sin(glm.radians(pitch))\n",
    "    front.z = math.sin(glm.radians(yaw)) * math.cos(glm.radians(pitch))\n",
    "    cameraFront = glm.normalize(front)\n",
    "\n",
    "\n",
    "    \n",
    "glfw.set_key_callback(window,key_event)\n",
    "glfw.set_cursor_pos_callback(window, mouse_event)\n",
    "\n",
    "# for f in draw_functions:\n",
    "#     print('    ' + f + '()')"
   ]
  },
  {
   "cell_type": "markdown",
   "metadata": {},
   "source": [
    "### Nesse momento, nós exibimos a janela!"
   ]
  },
  {
   "cell_type": "code",
   "execution_count": 758,
   "metadata": {},
   "outputs": [],
   "source": [
    "glfw.show_window(window)\n",
    "glfw.set_cursor_pos(window, lastX, lastY)"
   ]
  },
  {
   "cell_type": "markdown",
   "metadata": {},
   "source": [
    "### Loop principal da janela.\n",
    "Enquanto a janela não for fechada, esse laço será executado. É neste espaço que trabalhamos com algumas interações com a OpenGL."
   ]
  },
  {
   "cell_type": "code",
   "execution_count": 759,
   "metadata": {},
   "outputs": [],
   "source": [
    "glEnable(GL_DEPTH_TEST) ### importante para 3D\n",
    "   \n",
    "t_x = 0\n",
    "rotacao_inc = 0\n",
    "while not glfw.window_should_close(window):\n",
    "\n",
    "    glfw.poll_events() \n",
    "    \n",
    "    \n",
    "    glClear(GL_COLOR_BUFFER_BIT | GL_DEPTH_BUFFER_BIT)\n",
    "    \n",
    "    glClearColor(1.0, 1.0, 1.0, 1.0)\n",
    "    \n",
    "    if polygonal_mode==True:\n",
    "        glPolygonMode(GL_FRONT_AND_BACK,GL_LINE)\n",
    "    if polygonal_mode==False:\n",
    "        glPolygonMode(GL_FRONT_AND_BACK,GL_FILL)\n",
    "    \n",
    "    \n",
    "    ### CONFIGURAÇOES DA CÂMERA PARA NAO SAIR DO CENARIO\n",
    "    # CHECA SE NÃO SAI DA ESFERA DO CÉU\n",
    "    if((cameraPos[0]/200)**2+(cameraPos[1]/200)**2+(cameraPos[2]/200)**2 > 1):\n",
    "        i = np.argmax(abs(cameraPos)) # acha o índice com maior valor absoluto da câmera\n",
    "        if (cameraPos[i]) > 0: \n",
    "            cameraPos[i] -= 5.0\n",
    "        else:\n",
    "            cameraPos[i] += 5.0\n",
    "    \n",
    "    # CHECA SE NÃO PASSA DO CHÃO\n",
    "    if(cameraPos[1] < 1.0):\n",
    "        cameraPos[1] = 1.0\n",
    "\n",
    "    \n",
    "    \n",
    "    #draw_object(obj, angle, r_x, r_y, r_z, t_x, t_y, t_z, s_x, s_y, s_z, custom_mat_model):\n",
    "    \n",
    "    draw_terreno()\n",
    "    draw_cobble()\n",
    "    draw_rua()\n",
    "    draw_ceu()\n",
    "    draw_cama()\n",
    "    draw_disco_cylinder()\n",
    "    #draw_disco_ball()\n",
    "    draw_casa()\n",
    "    #draw_bola()\n",
    "    draw_geladeira()\n",
    "    draw_arco()\n",
    "    draw_arvore()\n",
    "    draw_sofa()\n",
    "    draw_tv()\n",
    "    \n",
    "    ### CONFIGURAÇOES DA BOLA DE FUTEBOL\n",
    "    # CONFIGURAÇOES DA TRANSLAÇÃO\n",
    "    if (ballinfo['speed'] == 0 or ballinfo['acceleration'] < 0):\n",
    "        ballinfo['moving'] = False\n",
    "    \n",
    "    if ballinfo['moving']:\n",
    "        ballinfo['pos'] += ballinfo['speed'] * ballinfo['direction'] * ballinfo['acceleration']\n",
    "        ballinfo['acceleration'] -= 0.001\n",
    "        \n",
    "    # CONFIGURAÇÕES DA ROTAÇÃO COM MATRIZ CUSTOMIZADA\n",
    "    if (ballinfo['moving']):\n",
    "        ballinfo['rotation'] += ballinfo['speed'] * 18 * ballinfo['acceleration'] * ballinfo['direction']\n",
    "    \n",
    "    angle = math.radians(ballinfo['rotation'])\n",
    "    matrix_transform_soccerball = glm.mat4(1.0) # instanciando uma matriz identidade\n",
    "    # aplicando translacao\n",
    "    matrix_transform_soccerball = glm.translate(\n",
    "        matrix_transform_soccerball, \n",
    "        glm.vec3(\n",
    "            bola['pos']['center_x'] + ballinfo['pos'] - 5.0 , \n",
    "            bola['pos']['center_y'] ,\n",
    "            bola['pos']['center_z'] - 53.0))    \n",
    "    # aplicando rotacao\n",
    "    matrix_transform_soccerball = glm.rotate(matrix_transform_soccerball, angle, glm.vec3(0, 0, -1))\n",
    "    # aplicando translacao\n",
    "    matrix_transform_soccerball = glm.translate(\n",
    "        matrix_transform_soccerball, \n",
    "        glm.vec3(\n",
    "            -bola['pos']['center_x'], \n",
    "            -bola['pos']['center_y'],\n",
    "            -bola['pos']['center_z']))    \n",
    "    # aplicando escala\n",
    "    matrix_transform_soccerball = glm.scale(matrix_transform_soccerball, glm.vec3(1, 1, 1))\n",
    "    matrix_transform_soccerball = np.array(matrix_transform_soccerball).T # pegando a transposta da matriz (glm trabalha com ela invertida)\n",
    "\n",
    "    draw_object(bola, t_x = ballinfo['pos'], custom_mat_model = matrix_transform_soccerball)\n",
    "    \n",
    "    \n",
    "    ### DESENHANDO ESFERA DA DISCOBALL COM MATRIZ DE TRANSFORMAÇAO CUSTOMIZADA\n",
    "    angle = math.radians(rotacao_inc)\n",
    "    matrix_transform_discoball = glm.mat4(1.0) # instanciando uma matriz identidade\n",
    "    # aplicando translacao\n",
    "    matrix_transform_discoball = glm.translate(\n",
    "        matrix_transform_discoball, \n",
    "        glm.vec3(\n",
    "            discoball_sphere['pos']['center_x'] - 8.5, \n",
    "            discoball_sphere['pos']['center_y'] + 0.5,\n",
    "            discoball_sphere['pos']['center_z'] + 3.5))    \n",
    "    # aplicando rotacao\n",
    "    matrix_transform_discoball = glm.rotate(matrix_transform_discoball, angle, glm.vec3(0, 1, 0))\n",
    "    # aplicando translacao\n",
    "    matrix_transform_discoball = glm.translate(\n",
    "        matrix_transform_discoball, \n",
    "        glm.vec3(\n",
    "            -discoball_sphere['pos']['center_x'], \n",
    "            -discoball_sphere['pos']['center_y'],\n",
    "            -discoball_sphere['pos']['center_z']))    \n",
    "    # aplicando escala\n",
    "    matrix_transform_discoball = glm.scale(matrix_transform_discoball, glm.vec3(1, 1, 1))\n",
    "    matrix_transform_discoball = np.array(matrix_transform_discoball).T # pegando a transposta da matriz (glm trabalha com ela invertida)\n",
    "    \n",
    "    draw_object(discoball_sphere, custom_mat_model = matrix_transform_discoball)\n",
    "    rotacao_inc += 0.1\n",
    "\n",
    "    \n",
    "\n",
    "    \n",
    "    mat_view = view()\n",
    "    loc_view = glGetUniformLocation(program, \"view\")\n",
    "    glUniformMatrix4fv(loc_view, 1, GL_FALSE, mat_view)\n",
    "\n",
    "    mat_projection = projection()\n",
    "    loc_projection = glGetUniformLocation(program, \"projection\")\n",
    "    glUniformMatrix4fv(loc_projection, 1, GL_FALSE, mat_projection)    \n",
    "\n",
    "    glfw.swap_buffers(window)\n",
    "#     time.sleep(0.1)\n",
    "\n",
    "\n",
    "\n",
    "glfw.terminate()"
   ]
  },
  {
   "cell_type": "code",
   "execution_count": null,
   "metadata": {},
   "outputs": [],
   "source": []
  }
 ],
 "metadata": {
  "kernelspec": {
   "display_name": "Python 3",
   "language": "python",
   "name": "python3"
  },
  "language_info": {
   "codemirror_mode": {
    "name": "ipython",
    "version": 3
   },
   "file_extension": ".py",
   "mimetype": "text/x-python",
   "name": "python",
   "nbconvert_exporter": "python",
   "pygments_lexer": "ipython3",
   "version": "3.7.4"
  }
 },
 "nbformat": 4,
 "nbformat_minor": 4
}
